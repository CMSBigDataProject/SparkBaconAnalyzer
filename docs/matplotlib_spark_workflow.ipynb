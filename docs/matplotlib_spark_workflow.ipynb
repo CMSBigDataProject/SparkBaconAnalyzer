{
 "cells": [
  {
   "cell_type": "markdown",
   "metadata": {},
   "source": [
    "# Matplotlib based example\n",
    "\n",
    "Following example is a copy of the matplotlib tutorial from this page: http://histogrammar.org/docs/tutorials/python-basic/\n",
    "\n",
    "It might require installing matplotlib package in your Anaconda isolated environment as:\n",
    "\n",
    "```bash\n",
    "conda install --name DarkMatter matplotlib\n",
    "```\n",
    "\n",
    "First, let us make sure Spark is accessible in the notebook (evaluating following cell should return something like `<pyspark.context.SparkContext at 0x7fecf4029160>`):"
   ]
  },
  {
   "cell_type": "code",
   "execution_count": 1,
   "metadata": {
    "collapsed": false
   },
   "outputs": [
    {
     "data": {
      "text/plain": [
       "<pyspark.context.SparkContext at 0x7f6a90fc2160>"
      ]
     },
     "execution_count": 1,
     "metadata": {},
     "output_type": "execute_result"
    }
   ],
   "source": [
    "sc"
   ]
  },
  {
   "cell_type": "markdown",
   "metadata": {},
   "source": [
    "Next, let us move on to a histogramming example with an aggregation step:"
   ]
  },
  {
   "cell_type": "code",
   "execution_count": 4,
   "metadata": {
    "collapsed": false
   },
   "outputs": [
    {
     "data": {
      "text/plain": [
       "<matplotlib.axes._subplots.AxesSubplot at 0x7f57a8fb28d0>"
      ]
     },
     "execution_count": 4,
     "metadata": {},
     "output_type": "execute_result"
    },
    {
     "data": {
      "image/png": "[encoded data removed]",
      "text/plain": [
       "<matplotlib.figure.Figure at 0x7f57a943fe10>"
      ]
     },
     "metadata": {},
     "output_type": "display_data"
    }
   ],
   "source": [
    "%matplotlib inline\n",
    "\n",
    "import matplotlib as mpl\n",
    "import numpy as np\n",
    "import matplotlib.pyplot as plt\n",
    "\n",
    "#set canvas size\n",
    "mpl.rcParams['figure.figsize'] = (14, 5)\n",
    "\n",
    "from histogrammar import *\n",
    "\n",
    "simple = [3.4, 2.2, -1.8, 0.0, 7.3, -4.7, 1.6, 0.0, -3.0, -1.7]\n",
    "\n",
    "simple_rdd = sc.parallelize(simple)\n",
    "histogram = Histogram(5, -5.0, 8.0, lambda x: x)\n",
    "\n",
    "h = simple_rdd.aggregate(histogram, increment, combine)\n",
    "\n",
    "h.matplotlib(name=\"Hello Spark World!\")"
   ]
  },
  {
   "cell_type": "code",
   "execution_count": null,
   "metadata": {
    "collapsed": true
   },
   "outputs": [],
   "source": []
  },
  {
   "cell_type": "code",
   "execution_count": null,
   "metadata": {
    "collapsed": true
   },
   "outputs": [],
   "source": []
  }
 ],
 "metadata": {
  "kernelspec": {
   "display_name": "Python 3",
   "language": "python",
   "name": "python3"
  },
  "language_info": {
   "codemirror_mode": {
    "name": "ipython",
    "version": 3
   },
   "file_extension": ".py",
   "mimetype": "text/x-python",
   "name": "python",
   "nbconvert_exporter": "python",
   "pygments_lexer": "ipython3",
   "version": "3.5.2"
  }
 },
 "nbformat": 4,
 "nbformat_minor": 0
}
