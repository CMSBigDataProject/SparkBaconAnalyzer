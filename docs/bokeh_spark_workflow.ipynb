{
 "cells": [
  {
   "cell_type": "markdown",
   "metadata": {},
   "source": [
    "# Bokeh based example with Spark\n",
    "\n",
    "This notebook shows how to easily visualize histogrammar plots produced with Bokeh in the notebook.\n",
    "The example closely follows this tutorial: http://histogrammar.org/docs/tutorials/python-bokeh/\n",
    "\n",
    "We are going to launch the notebook in a distributed mode with Spark enabled, e.g.:\n",
    "\n",
    "```bash\n",
    "IPYTHON_OPTS=\"notebook --no-browser --port=8889 --ip=127.0.0.1\" pyspark --master yarn-client --num-executors 10 --executor-cores 2 --executor-memory 5g\n",
    "```\n",
    "   \n",
    "   \n",
    "As usually, when working with Spark in the notebook, we check the the SparkContext variable is available:   "
   ]
  },
  {
   "cell_type": "code",
   "execution_count": 3,
   "metadata": {
    "collapsed": false
   },
   "outputs": [
    {
     "data": {
      "text/plain": [
       "<pyspark.context.SparkContext at 0x7f2b0d267160>"
      ]
     },
     "execution_count": 3,
     "metadata": {},
     "output_type": "execute_result"
    }
   ],
   "source": [
    "sc"
   ]
  },
  {
   "cell_type": "markdown",
   "metadata": {},
   "source": [
    "Next, we follow the example by booking and filling a couple of histograms:"
   ]
  },
  {
   "cell_type": "code",
   "execution_count": 4,
   "metadata": {
    "collapsed": false
   },
   "outputs": [],
   "source": [
    "from histogrammar import *\n",
    "from histogrammar.plot.bokeh import plot,save,view"
   ]
  },
  {
   "cell_type": "code",
   "execution_count": 5,
   "metadata": {
    "collapsed": true
   },
   "outputs": [],
   "source": [
    "simple = [3.4, 2.2, -1.8, 0.0, 7.3, -4.7, 1.6, 0.0, -3.0, -1.7]"
   ]
  },
  {
   "cell_type": "code",
   "execution_count": 6,
   "metadata": {
    "collapsed": true
   },
   "outputs": [],
   "source": [
    "one = Histogram(5, -5.0, 8.0, lambda x: x)\n",
    "two = Histogram(5, -3.0, 7.0, lambda x: x)"
   ]
  },
  {
   "cell_type": "code",
   "execution_count": 7,
   "metadata": {
    "collapsed": true
   },
   "outputs": [],
   "source": [
    "labeling = Label(one=one, two=two)\n",
    "for _ in simple: labeling.fill(_)"
   ]
  },
  {
   "cell_type": "code",
   "execution_count": 8,
   "metadata": {
    "collapsed": false
   },
   "outputs": [],
   "source": [
    "glyph_one = one.bokeh()\n",
    "plot_one = plot(glyph_one)"
   ]
  },
  {
   "cell_type": "markdown",
   "metadata": {},
   "source": [
    "Usual approach would be to save the histogram plot as HTML to the disk. This is still possible:"
   ]
  },
  {
   "cell_type": "code",
   "execution_count": 9,
   "metadata": {
    "collapsed": false
   },
   "outputs": [],
   "source": [
    "save(plot_one,\"python_plot_one.html\")"
   ]
  },
  {
   "cell_type": "markdown",
   "metadata": {},
   "source": [
    "But with IPython notebook, a better approach is possible, which is to view the plots inline:"
   ]
  },
  {
   "cell_type": "code",
   "execution_count": 10,
   "metadata": {
    "collapsed": true
   },
   "outputs": [],
   "source": [
    "from bokeh.plotting import show\n",
    "from bokeh.io import output_notebook"
   ]
  },
  {
   "cell_type": "code",
   "execution_count": 11,
   "metadata": {
    "collapsed": false
   },
   "outputs": [
    {
     "data": {
      "text/html": [
       "\n",
       "    <div class=\"bk-banner\">\n",
       "        <a href=\"http://bokeh.pydata.org\" target=\"_blank\" class=\"bk-logo bk-logo-small bk-logo-notebook\"></a>\n",
       "        <span id=\"8fcd6f7f-72a0-47de-8e59-d399c7c3ab63\">Loading BokehJS ...</span>\n",
       "    </div>"
      ]
     },
     "metadata": {},
     "output_type": "display_data"
    },
    {
     "data": {
      "application/javascript": [
       "\n",
       "(function(global) {\n",
       "  function now() {\n",
       "    return new Date();\n",
       "  }\n",
       "\n",
       "  if (typeof (window._bokeh_onload_callbacks) === \"undefined\") {\n",
       "    window._bokeh_onload_callbacks = [];\n",
       "  }\n",
       "\n",
       "  function run_callbacks() {\n",
       "    window._bokeh_onload_callbacks.forEach(function(callback) { callback() });\n",
       "    delete window._bokeh_onload_callbacks\n",
       "    console.info(\"Bokeh: all callbacks have finished\");\n",
       "  }\n",
       "\n",
       "  function load_libs(js_urls, callback) {\n",
       "    window._bokeh_onload_callbacks.push(callback);\n",
       "    if (window._bokeh_is_loading > 0) {\n",
       "      console.log(\"Bokeh: BokehJS is being loaded, scheduling callback at\", now());\n",
       "      return null;\n",
       "    }\n",
       "    if (js_urls == null || js_urls.length === 0) {\n",
       "      run_callbacks();\n",
       "      return null;\n",
       "    }\n",
       "    console.log(\"Bokeh: BokehJS not loaded, scheduling load and callback at\", now());\n",
       "    window._bokeh_is_loading = js_urls.length;\n",
       "    for (var i = 0; i < js_urls.length; i++) {\n",
       "      var url = js_urls[i];\n",
       "      var s = document.createElement('script');\n",
       "      s.src = url;\n",
       "      s.async = false;\n",
       "      s.onreadystatechange = s.onload = function() {\n",
       "        window._bokeh_is_loading--;\n",
       "        if (window._bokeh_is_loading === 0) {\n",
       "          console.log(\"Bokeh: all BokehJS libraries loaded\");\n",
       "          run_callbacks()\n",
       "        }\n",
       "      };\n",
       "      s.onerror = function() {\n",
       "        console.warn(\"failed to load library \" + url);\n",
       "      };\n",
       "      console.log(\"Bokeh: injecting script tag for BokehJS library: \", url);\n",
       "      document.getElementsByTagName(\"head\")[0].appendChild(s);\n",
       "    }\n",
       "  };\n",
       "\n",
       "  var js_urls = ['https://cdn.pydata.org/bokeh/release/bokeh-0.11.1.min.js', 'https://cdn.pydata.org/bokeh/release/bokeh-widgets-0.11.1.min.js', 'https://cdn.pydata.org/bokeh/release/bokeh-compiler-0.11.1.min.js'];\n",
       "\n",
       "  var inline_js = [\n",
       "    function(Bokeh) {\n",
       "      Bokeh.set_log_level(\"info\");\n",
       "    },\n",
       "    \n",
       "    function(Bokeh) {\n",
       "      Bokeh.$(\"#8fcd6f7f-72a0-47de-8e59-d399c7c3ab63\").text(\"BokehJS successfully loaded\");\n",
       "    },\n",
       "    function(Bokeh) {\n",
       "      console.log(\"Bokeh: injecting CSS: https://cdn.pydata.org/bokeh/release/bokeh-0.11.1.min.css\");\n",
       "      Bokeh.embed.inject_css(\"https://cdn.pydata.org/bokeh/release/bokeh-0.11.1.min.css\");\n",
       "      console.log(\"Bokeh: injecting CSS: https://cdn.pydata.org/bokeh/release/bokeh-widgets-0.11.1.min.css\");\n",
       "      Bokeh.embed.inject_css(\"https://cdn.pydata.org/bokeh/release/bokeh-widgets-0.11.1.min.css\");\n",
       "    }\n",
       "  ];\n",
       "\n",
       "  function run_inline_js() {\n",
       "    for (var i = 0; i < inline_js.length; i++) {\n",
       "      inline_js[i](window.Bokeh);\n",
       "    }\n",
       "  }\n",
       "\n",
       "  if (window._bokeh_is_loading === 0) {\n",
       "    console.log(\"Bokeh: BokehJS loaded, going straight to plotting\");\n",
       "    run_inline_js();\n",
       "  } else {\n",
       "    load_libs(js_urls, function() {\n",
       "      console.log(\"Bokeh: BokehJS plotting callback run at\", now());\n",
       "      run_inline_js();\n",
       "    });\n",
       "  }\n",
       "}(this));"
      ]
     },
     "metadata": {},
     "output_type": "display_data"
    }
   ],
   "source": [
    "output_notebook()"
   ]
  },
  {
   "cell_type": "code",
   "execution_count": 12,
   "metadata": {
    "collapsed": false
   },
   "outputs": [
    {
     "data": {
      "text/html": [
       "\n",
       "\n",
       "    <div class=\"plotdiv\" id=\"dddfc81b-dac5-4117-9012-3bd70505f3f7\"></div>\n",
       "<script type=\"text/javascript\">\n",
       "  \n",
       "  (function(global) {\n",
       "    function now() {\n",
       "      return new Date();\n",
       "    }\n",
       "  \n",
       "    if (typeof (window._bokeh_onload_callbacks) === \"undefined\") {\n",
       "      window._bokeh_onload_callbacks = [];\n",
       "    }\n",
       "  \n",
       "    function run_callbacks() {\n",
       "      window._bokeh_onload_callbacks.forEach(function(callback) { callback() });\n",
       "      delete window._bokeh_onload_callbacks\n",
       "      console.info(\"Bokeh: all callbacks have finished\");\n",
       "    }\n",
       "  \n",
       "    function load_libs(js_urls, callback) {\n",
       "      window._bokeh_onload_callbacks.push(callback);\n",
       "      if (window._bokeh_is_loading > 0) {\n",
       "        console.log(\"Bokeh: BokehJS is being loaded, scheduling callback at\", now());\n",
       "        return null;\n",
       "      }\n",
       "      if (js_urls == null || js_urls.length === 0) {\n",
       "        run_callbacks();\n",
       "        return null;\n",
       "      }\n",
       "      console.log(\"Bokeh: BokehJS not loaded, scheduling load and callback at\", now());\n",
       "      window._bokeh_is_loading = js_urls.length;\n",
       "      for (var i = 0; i < js_urls.length; i++) {\n",
       "        var url = js_urls[i];\n",
       "        var s = document.createElement('script');\n",
       "        s.src = url;\n",
       "        s.async = false;\n",
       "        s.onreadystatechange = s.onload = function() {\n",
       "          window._bokeh_is_loading--;\n",
       "          if (window._bokeh_is_loading === 0) {\n",
       "            console.log(\"Bokeh: all BokehJS libraries loaded\");\n",
       "            run_callbacks()\n",
       "          }\n",
       "        };\n",
       "        s.onerror = function() {\n",
       "          console.warn(\"failed to load library \" + url);\n",
       "        };\n",
       "        console.log(\"Bokeh: injecting script tag for BokehJS library: \", url);\n",
       "        document.getElementsByTagName(\"head\")[0].appendChild(s);\n",
       "      }\n",
       "    };var element = document.getElementById(\"dddfc81b-dac5-4117-9012-3bd70505f3f7\");\n",
       "    if (element == null) {\n",
       "      console.log(\"Bokeh: ERROR: autoload.js configured with elementid 'dddfc81b-dac5-4117-9012-3bd70505f3f7' but no matching script tag was found. \")\n",
       "      return false;\n",
       "    }\n",
       "  \n",
       "    var js_urls = [];\n",
       "  \n",
       "    var inline_js = [\n",
       "      function(Bokeh) {\n",
       "        Bokeh.$(function() {\n",
       "            var docs_json = {\"6b908325-8bb7-4cda-988d-2f51f3a69f7a\":{\"roots\":{\"references\":[{\"attributes\":{\"axis_label\":\"y\",\"formatter\":{\"id\":\"e10190ae-0ed8-438e-889d-0fcf7afc1b38\",\"type\":\"BasicTickFormatter\"},\"plot\":{\"id\":\"cc2c4b09-34ee-42c8-abde-3c69a5d222b2\",\"type\":\"Plot\"},\"ticker\":{\"id\":\"4082cabf-3dcd-42e9-b84d-87c61295711d\",\"type\":\"BasicTicker\"}},\"id\":\"35b8c260-2655-4458-8c88-5cb1ddb981cb\",\"type\":\"LinearAxis\"},{\"attributes\":{\"callback\":null},\"id\":\"3417f415-e004-41f9-a1ac-6a775ed71b49\",\"type\":\"DataRange1d\"},{\"attributes\":{\"axis_label\":\"x\",\"formatter\":{\"id\":\"8ddb083e-babd-4032-8c96-f73d109c29ce\",\"type\":\"BasicTickFormatter\"},\"plot\":{\"id\":\"cc2c4b09-34ee-42c8-abde-3c69a5d222b2\",\"type\":\"Plot\"},\"ticker\":{\"id\":\"1804ac16-5100-4a65-8bc5-997777a0757d\",\"type\":\"BasicTicker\"}},\"id\":\"8362e7c2-01d2-4916-9741-86f53324c875\",\"type\":\"LinearAxis\"},{\"attributes\":{\"below\":[{\"id\":\"8362e7c2-01d2-4916-9741-86f53324c875\",\"type\":\"LinearAxis\"}],\"left\":[{\"id\":\"35b8c260-2655-4458-8c88-5cb1ddb981cb\",\"type\":\"LinearAxis\"}],\"min_border\":80,\"renderers\":[{\"id\":\"51223434-7ba7-4b89-a0dc-a5b1e2b771b9\",\"type\":\"GlyphRenderer\"},{\"id\":\"8362e7c2-01d2-4916-9741-86f53324c875\",\"type\":\"LinearAxis\"},{\"id\":\"35b8c260-2655-4458-8c88-5cb1ddb981cb\",\"type\":\"LinearAxis\"}],\"tool_events\":{\"id\":\"0d9994d9-1cb8-47fe-af47-1cef044d44eb\",\"type\":\"ToolEvents\"},\"tools\":[{\"id\":\"bf0f8184-f97d-4d26-8ce4-ccb3018388d6\",\"type\":\"PanTool\"},{\"id\":\"246bb596-402a-4810-a48e-425c1ebbf8a9\",\"type\":\"WheelZoomTool\"}],\"x_range\":{\"id\":\"3417f415-e004-41f9-a1ac-6a775ed71b49\",\"type\":\"DataRange1d\"},\"y_range\":{\"id\":\"cfcfd12d-a5d1-4d38-ab79-94fa7fdec498\",\"type\":\"DataRange1d\"}},\"id\":\"cc2c4b09-34ee-42c8-abde-3c69a5d222b2\",\"type\":\"Plot\"},{\"attributes\":{\"data_source\":{\"id\":\"bd6bc795-8949-4600-acbd-e52bd7ece5e2\",\"type\":\"ColumnDataSource\"},\"glyph\":{\"id\":\"97cff944-c53c-4768-822c-ee62cdf8f23f\",\"type\":\"Line\"},\"hover_glyph\":null,\"nonselection_glyph\":null,\"selection_glyph\":null},\"id\":\"51223434-7ba7-4b89-a0dc-a5b1e2b771b9\",\"type\":\"GlyphRenderer\"},{\"attributes\":{},\"id\":\"1804ac16-5100-4a65-8bc5-997777a0757d\",\"type\":\"BasicTicker\"},{\"attributes\":{},\"id\":\"4082cabf-3dcd-42e9-b84d-87c61295711d\",\"type\":\"BasicTicker\"},{\"attributes\":{\"callback\":null,\"column_names\":[\"y\",\"x\",\"ci\"],\"data\":{\"ci\":[2.8284271247461903,4.0,2.8284271247461903,2.0,2.0],\"x\":[-3.7,-1.0999999999999999,1.5000000000000002,4.1000000000000005,6.7],\"y\":[2.0,4.0,2.0,1.0,1.0]}},\"id\":\"bd6bc795-8949-4600-acbd-e52bd7ece5e2\",\"type\":\"ColumnDataSource\"},{\"attributes\":{\"plot\":{\"id\":\"cc2c4b09-34ee-42c8-abde-3c69a5d222b2\",\"type\":\"Plot\"}},\"id\":\"bf0f8184-f97d-4d26-8ce4-ccb3018388d6\",\"type\":\"PanTool\"},{\"attributes\":{},\"id\":\"e10190ae-0ed8-438e-889d-0fcf7afc1b38\",\"type\":\"BasicTickFormatter\"},{\"attributes\":{\"plot\":{\"id\":\"cc2c4b09-34ee-42c8-abde-3c69a5d222b2\",\"type\":\"Plot\"}},\"id\":\"246bb596-402a-4810-a48e-425c1ebbf8a9\",\"type\":\"WheelZoomTool\"},{\"attributes\":{},\"id\":\"0d9994d9-1cb8-47fe-af47-1cef044d44eb\",\"type\":\"ToolEvents\"},{\"attributes\":{\"x\":{\"field\":\"x\"},\"y\":{\"field\":\"y\"}},\"id\":\"97cff944-c53c-4768-822c-ee62cdf8f23f\",\"type\":\"Line\"},{\"attributes\":{\"callback\":null},\"id\":\"cfcfd12d-a5d1-4d38-ab79-94fa7fdec498\",\"type\":\"DataRange1d\"},{\"attributes\":{},\"id\":\"8ddb083e-babd-4032-8c96-f73d109c29ce\",\"type\":\"BasicTickFormatter\"}],\"root_ids\":[\"cc2c4b09-34ee-42c8-abde-3c69a5d222b2\"]},\"title\":\"Bokeh Application\",\"version\":\"0.11.1\"}};\n",
       "            var render_items = [{\"docid\":\"6b908325-8bb7-4cda-988d-2f51f3a69f7a\",\"elementid\":\"dddfc81b-dac5-4117-9012-3bd70505f3f7\",\"modelid\":\"cc2c4b09-34ee-42c8-abde-3c69a5d222b2\",\"notebook_comms_target\":\"87b9691b-bc7d-4f13-913f-9b9b21913d9d\"}];\n",
       "            \n",
       "            Bokeh.embed.embed_items(docs_json, render_items);\n",
       "        });\n",
       "      },\n",
       "      function(Bokeh) {\n",
       "      }\n",
       "    ];\n",
       "  \n",
       "    function run_inline_js() {\n",
       "      for (var i = 0; i < inline_js.length; i++) {\n",
       "        inline_js[i](window.Bokeh);\n",
       "      }\n",
       "    }\n",
       "  \n",
       "    if (window._bokeh_is_loading === 0) {\n",
       "      console.log(\"Bokeh: BokehJS loaded, going straight to plotting\");\n",
       "      run_inline_js();\n",
       "    } else {\n",
       "      load_libs(js_urls, function() {\n",
       "        console.log(\"Bokeh: BokehJS plotting callback run at\", now());\n",
       "        run_inline_js();\n",
       "      });\n",
       "    }\n",
       "  }(this));\n",
       "</script>"
      ]
     },
     "metadata": {},
     "output_type": "display_data"
    },
    {
     "data": {
      "text/html": [
       "<p><code>&lt;Bokeh Notebook handle for <strong>In[12]</strong>&gt;</code></p>"
      ],
      "text/plain": [
       "<bokeh.io._CommsHandle at 0x7f2af0a89b38>"
      ]
     },
     "execution_count": 12,
     "metadata": {},
     "output_type": "execute_result"
    }
   ],
   "source": [
    "show(plot_one)"
   ]
  },
  {
   "cell_type": "markdown",
   "metadata": {
    "collapsed": true
   },
   "source": [
    "# Aggregation\n",
    "\n",
    "Next is an example with aggregation."
   ]
  },
  {
   "cell_type": "code",
   "execution_count": 13,
   "metadata": {
    "collapsed": false
   },
   "outputs": [],
   "source": [
    "simple_rdd = sc.parallelize(simple)\n",
    "\n",
    "histogram = Histogram(5, -5.0, 8.0, lambda x: x)\n",
    "\n",
    "two = simple_rdd.aggregate(histogram, increment, combine)"
   ]
  },
  {
   "cell_type": "code",
   "execution_count": 14,
   "metadata": {
    "collapsed": false
   },
   "outputs": [
    {
     "data": {
      "text/html": [
       "\n",
       "\n",
       "    <div class=\"plotdiv\" id=\"08ea837e-66f5-420d-ba42-77b9556a1c7b\"></div>\n",
       "<script type=\"text/javascript\">\n",
       "  \n",
       "  (function(global) {\n",
       "    function now() {\n",
       "      return new Date();\n",
       "    }\n",
       "  \n",
       "    if (typeof (window._bokeh_onload_callbacks) === \"undefined\") {\n",
       "      window._bokeh_onload_callbacks = [];\n",
       "    }\n",
       "  \n",
       "    function run_callbacks() {\n",
       "      window._bokeh_onload_callbacks.forEach(function(callback) { callback() });\n",
       "      delete window._bokeh_onload_callbacks\n",
       "      console.info(\"Bokeh: all callbacks have finished\");\n",
       "    }\n",
       "  \n",
       "    function load_libs(js_urls, callback) {\n",
       "      window._bokeh_onload_callbacks.push(callback);\n",
       "      if (window._bokeh_is_loading > 0) {\n",
       "        console.log(\"Bokeh: BokehJS is being loaded, scheduling callback at\", now());\n",
       "        return null;\n",
       "      }\n",
       "      if (js_urls == null || js_urls.length === 0) {\n",
       "        run_callbacks();\n",
       "        return null;\n",
       "      }\n",
       "      console.log(\"Bokeh: BokehJS not loaded, scheduling load and callback at\", now());\n",
       "      window._bokeh_is_loading = js_urls.length;\n",
       "      for (var i = 0; i < js_urls.length; i++) {\n",
       "        var url = js_urls[i];\n",
       "        var s = document.createElement('script');\n",
       "        s.src = url;\n",
       "        s.async = false;\n",
       "        s.onreadystatechange = s.onload = function() {\n",
       "          window._bokeh_is_loading--;\n",
       "          if (window._bokeh_is_loading === 0) {\n",
       "            console.log(\"Bokeh: all BokehJS libraries loaded\");\n",
       "            run_callbacks()\n",
       "          }\n",
       "        };\n",
       "        s.onerror = function() {\n",
       "          console.warn(\"failed to load library \" + url);\n",
       "        };\n",
       "        console.log(\"Bokeh: injecting script tag for BokehJS library: \", url);\n",
       "        document.getElementsByTagName(\"head\")[0].appendChild(s);\n",
       "      }\n",
       "    };var element = document.getElementById(\"08ea837e-66f5-420d-ba42-77b9556a1c7b\");\n",
       "    if (element == null) {\n",
       "      console.log(\"Bokeh: ERROR: autoload.js configured with elementid '08ea837e-66f5-420d-ba42-77b9556a1c7b' but no matching script tag was found. \")\n",
       "      return false;\n",
       "    }\n",
       "  \n",
       "    var js_urls = [];\n",
       "  \n",
       "    var inline_js = [\n",
       "      function(Bokeh) {\n",
       "        Bokeh.$(function() {\n",
       "            var docs_json = {\"10bfd291-bd94-4c5d-bb7e-f0cd12513cde\":{\"roots\":{\"references\":[{\"attributes\":{},\"id\":\"149a656a-b299-45c0-87c8-4aa7e95a2c0f\",\"type\":\"BasicTickFormatter\"},{\"attributes\":{},\"id\":\"36b21258-8f5f-4712-95db-517536811f69\",\"type\":\"BasicTickFormatter\"},{\"attributes\":{\"fill_alpha\":{\"value\":0.1},\"fill_color\":{\"value\":\"red\"},\"height\":{\"field\":\"h\",\"units\":\"data\"},\"width\":{\"units\":\"data\",\"value\":2.6},\"x\":{\"field\":\"x\"},\"y\":{\"field\":\"y\"}},\"id\":\"21637981-55b4-4626-91d0-9452b43f5720\",\"type\":\"Rect\"},{\"attributes\":{},\"id\":\"09aa740b-faf1-40cb-bdd0-f5e1ffa77aaa\",\"type\":\"BasicTicker\"},{\"attributes\":{\"axis_label\":\"y\",\"formatter\":{\"id\":\"36b21258-8f5f-4712-95db-517536811f69\",\"type\":\"BasicTickFormatter\"},\"plot\":{\"id\":\"cf820015-1e32-4b59-9ae3-527a34682076\",\"type\":\"Plot\"},\"ticker\":{\"id\":\"09aa740b-faf1-40cb-bdd0-f5e1ffa77aaa\",\"type\":\"BasicTicker\"}},\"id\":\"502f65eb-293e-474d-8da1-979b913ab0f7\",\"type\":\"LinearAxis\"},{\"attributes\":{\"callback\":null},\"id\":\"bf250b88-21f2-4198-928e-846123094db9\",\"type\":\"DataRange1d\"},{\"attributes\":{},\"id\":\"0d1583f4-e624-4ef0-8ca4-b505f1343bc4\",\"type\":\"BasicTicker\"},{\"attributes\":{\"plot\":{\"id\":\"cf820015-1e32-4b59-9ae3-527a34682076\",\"type\":\"Plot\"}},\"id\":\"5405d1d3-92ca-4202-b83d-e202369891d1\",\"type\":\"WheelZoomTool\"},{\"attributes\":{},\"id\":\"0ef95f4b-3470-434a-a56e-284bea4a4dee\",\"type\":\"ToolEvents\"},{\"attributes\":{\"below\":[{\"id\":\"be8c75a9-3bd6-49f7-b0eb-090752a874f3\",\"type\":\"LinearAxis\"}],\"left\":[{\"id\":\"502f65eb-293e-474d-8da1-979b913ab0f7\",\"type\":\"LinearAxis\"}],\"min_border\":80,\"renderers\":[{\"id\":\"1258748c-3a1d-4b8f-86f4-a1a83583d579\",\"type\":\"GlyphRenderer\"},{\"id\":\"be8c75a9-3bd6-49f7-b0eb-090752a874f3\",\"type\":\"LinearAxis\"},{\"id\":\"502f65eb-293e-474d-8da1-979b913ab0f7\",\"type\":\"LinearAxis\"}],\"tool_events\":{\"id\":\"0ef95f4b-3470-434a-a56e-284bea4a4dee\",\"type\":\"ToolEvents\"},\"tools\":[{\"id\":\"1564b8ad-cb5d-47fe-bc0d-9a42b252373c\",\"type\":\"PanTool\"},{\"id\":\"5405d1d3-92ca-4202-b83d-e202369891d1\",\"type\":\"WheelZoomTool\"}],\"x_range\":{\"id\":\"7be476de-b41d-4bb9-b49f-9fc3e986f761\",\"type\":\"DataRange1d\"},\"y_range\":{\"id\":\"bf250b88-21f2-4198-928e-846123094db9\",\"type\":\"DataRange1d\"}},\"id\":\"cf820015-1e32-4b59-9ae3-527a34682076\",\"type\":\"Plot\"},{\"attributes\":{\"callback\":null},\"id\":\"7be476de-b41d-4bb9-b49f-9fc3e986f761\",\"type\":\"DataRange1d\"},{\"attributes\":{\"callback\":null,\"column_names\":[\"y\",\"x\",\"h\"],\"data\":{\"h\":[2.0,4.0,2.0,1.0,1.0],\"x\":[-3.7,-1.0999999999999999,1.5000000000000002,4.1000000000000005,6.7],\"y\":[1.0,2.0,1.0,0.5,0.5]}},\"id\":\"af118e55-459e-436c-abe4-154a5bb3688e\",\"type\":\"ColumnDataSource\"},{\"attributes\":{\"data_source\":{\"id\":\"af118e55-459e-436c-abe4-154a5bb3688e\",\"type\":\"ColumnDataSource\"},\"glyph\":{\"id\":\"21637981-55b4-4626-91d0-9452b43f5720\",\"type\":\"Rect\"},\"hover_glyph\":null,\"nonselection_glyph\":null,\"selection_glyph\":null},\"id\":\"1258748c-3a1d-4b8f-86f4-a1a83583d579\",\"type\":\"GlyphRenderer\"},{\"attributes\":{\"axis_label\":\"x\",\"formatter\":{\"id\":\"149a656a-b299-45c0-87c8-4aa7e95a2c0f\",\"type\":\"BasicTickFormatter\"},\"plot\":{\"id\":\"cf820015-1e32-4b59-9ae3-527a34682076\",\"type\":\"Plot\"},\"ticker\":{\"id\":\"0d1583f4-e624-4ef0-8ca4-b505f1343bc4\",\"type\":\"BasicTicker\"}},\"id\":\"be8c75a9-3bd6-49f7-b0eb-090752a874f3\",\"type\":\"LinearAxis\"},{\"attributes\":{\"plot\":{\"id\":\"cf820015-1e32-4b59-9ae3-527a34682076\",\"type\":\"Plot\"}},\"id\":\"1564b8ad-cb5d-47fe-bc0d-9a42b252373c\",\"type\":\"PanTool\"}],\"root_ids\":[\"cf820015-1e32-4b59-9ae3-527a34682076\"]},\"title\":\"Bokeh Application\",\"version\":\"0.11.1\"}};\n",
       "            var render_items = [{\"docid\":\"10bfd291-bd94-4c5d-bb7e-f0cd12513cde\",\"elementid\":\"08ea837e-66f5-420d-ba42-77b9556a1c7b\",\"modelid\":\"cf820015-1e32-4b59-9ae3-527a34682076\",\"notebook_comms_target\":\"c6e29ea7-2a03-4463-a8a6-13e490c1cb3f\"}];\n",
       "            \n",
       "            Bokeh.embed.embed_items(docs_json, render_items);\n",
       "        });\n",
       "      },\n",
       "      function(Bokeh) {\n",
       "      }\n",
       "    ];\n",
       "  \n",
       "    function run_inline_js() {\n",
       "      for (var i = 0; i < inline_js.length; i++) {\n",
       "        inline_js[i](window.Bokeh);\n",
       "      }\n",
       "    }\n",
       "  \n",
       "    if (window._bokeh_is_loading === 0) {\n",
       "      console.log(\"Bokeh: BokehJS loaded, going straight to plotting\");\n",
       "      run_inline_js();\n",
       "    } else {\n",
       "      load_libs(js_urls, function() {\n",
       "        console.log(\"Bokeh: BokehJS plotting callback run at\", now());\n",
       "        run_inline_js();\n",
       "      });\n",
       "    }\n",
       "  }(this));\n",
       "</script>"
      ]
     },
     "metadata": {},
     "output_type": "display_data"
    },
    {
     "data": {
      "text/html": [
       "<p><code>&lt;Bokeh Notebook handle for <strong>In[14]</strong>&gt;</code></p>"
      ],
      "text/plain": [
       "<bokeh.io._CommsHandle at 0x7f2af09a1d68>"
      ]
     },
     "execution_count": 14,
     "metadata": {},
     "output_type": "execute_result"
    }
   ],
   "source": [
    "glyph_two = two.bokeh(glyphType=\"histogram\",fillColor=\"red\")\n",
    "plot_two = plot(glyph_two)\n",
    "\n",
    "show(plot_two)"
   ]
  },
  {
   "cell_type": "code",
   "execution_count": null,
   "metadata": {
    "collapsed": true
   },
   "outputs": [],
   "source": []
  }
 ],
 "metadata": {
  "kernelspec": {
   "display_name": "Python 3",
   "language": "python",
   "name": "python3"
  },
  "language_info": {
   "codemirror_mode": {
    "name": "ipython",
    "version": 3
   },
   "file_extension": ".py",
   "mimetype": "text/x-python",
   "name": "python",
   "nbconvert_exporter": "python",
   "pygments_lexer": "ipython3",
   "version": "3.5.2"
  }
 },
 "nbformat": 4,
 "nbformat_minor": 0
}
