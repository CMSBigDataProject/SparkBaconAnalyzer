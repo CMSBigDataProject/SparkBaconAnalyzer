{
 "cells": [
  {
   "cell_type": "markdown",
   "metadata": {},
   "source": [
    "# Matplotlib based example\n",
    "\n",
    "Following example is a replica of the following tutorial: http://histogrammar.org/docs/tutorials/python-basic/\n",
    "\n",
    "It might require installing matplotlib package in your Anaconda isolated environment as:\n",
    "\n",
    "```bash\n",
    "conda install --name DarkMatter matplotlib\n",
    "```"
   ]
  },
  {
   "cell_type": "code",
   "execution_count": 4,
   "metadata": {
    "collapsed": false
   },
   "outputs": [
    {
     "data": {
      "image/png": "[encoded data removed]",
      "text/plain": [
       "<matplotlib.figure.Figure at 0x7f74b437ca58>"
      ]
     },
     "metadata": {},
     "output_type": "display_data"
    }
   ],
   "source": [
    "%matplotlib inline\n",
    "\n",
    "import matplotlib as mpl\n",
    "import numpy as np\n",
    "import matplotlib.pyplot as plt\n",
    "\n",
    "#set canvas size\n",
    "mpl.rcParams['figure.figsize'] = (14, 5)\n",
    "\n",
    "import histogrammar as hg\n",
    "\n",
    "# generate a stream of uniform random numbers\n",
    "import random\n",
    "data = [random.random() for i in range(2000)]\n",
    "\n",
    "# aggregation structure and fill rule\n",
    "histogram = hg.Bin(num=20, low=0, high=1, quantity=lambda x: x, value=hg.Count())\n",
    "\n",
    "# fill the histogram!\n",
    "for d in data:\n",
    "    histogram.fill(d)\n",
    "\n",
    "# quick plotting convenience method using matplotlib (if the user has this installed)\n",
    "ax = histogram.matplotlib(name=\"hello world!\")"
   ]
  }
 ],
 "metadata": {
  "kernelspec": {
   "display_name": "Python 3",
   "language": "python",
   "name": "python3"
  },
  "language_info": {
   "codemirror_mode": {
    "name": "ipython",
    "version": 3
   },
   "file_extension": ".py",
   "mimetype": "text/x-python",
   "name": "python",
   "nbconvert_exporter": "python",
   "pygments_lexer": "ipython3",
   "version": "3.5.2"
  }
 },
 "nbformat": 4,
 "nbformat_minor": 0
}
